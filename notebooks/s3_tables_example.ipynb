{
  "cells": [
    {
      "cell_type": "markdown",
      "metadata": {},
      "source": [
        "# S3 Tables Catalog REST Service Example\n",
        "\n",
        "This notebook demonstrates a complete workflow using the S3 Tables Catalog REST service with PySpark:\n",
        "1. Initialize connections\n",
        "2. Create a namespace and table\n",
        "3. Write data to the table\n",
        "4. Read data from the table\n",
        "5. Clean up resources"
      ]
    },
    {
      "cell_type": "code",
      "execution_count": null,
      "metadata": {},
      "outputs": [
        {
          "ename": "",
          "evalue": "",
          "output_type": "error",
          "traceback": [
            "\u001b[1;31mRunning cells with '.venv (Python 3.13.1)' requires the ipykernel package.\n",
            "\u001b[1;31mRun the following command to install 'ipykernel' into the Python environment. \n",
            "\u001b[1;31mCommand: '/Users/james/opt/fun/s3-tables-catalog-rest/.venv/bin/python -m pip install ipykernel -U --force-reinstall'"
          ]
        }
      ],
      "source": [
        "!pip install requests pyspark==3.5.0 'urllib3<2.0.0'\n",
        "!mkdir -p jars\n",
        "!wget -P jars https://repo1.maven.org/maven2/org/apache/iceberg/iceberg-spark-runtime-3.5_2.12/1.5.0/iceberg-spark-runtime-3.5_2.12-1.5.0.jar\n",
        "!wget -P jars https://repo1.maven.org/maven2/software/amazon/awssdk/bundle/2.29.26/bundle-2.29.26.jar\n",
        "!wget -P jars https://repo1.maven.org/maven2/software/amazon/awssdk/url-connection-client/2.29.26/url-connection-client-2.29.26.jar"
      ]
    },
    {
      "cell_type": "code",
      "execution_count": null,
      "metadata": {},
      "outputs": [],
      "source": [
        "from pyspark.sql import SparkSession\n",
        "from pyspark.sql.types import *\n",
        "\n",
        "# Initialize Spark session with S3 and Iceberg configurations\n",
        "spark = SparkSession.builder \\\n",
        "    .appName(\"S3TablesCatalogExample\") \\\n",
        "    .config(\"spark.jars\", \"jars/iceberg-spark-runtime-3.5_2.12-1.5.0.jar,jars/bundle-2.29.26.jar,jars/url-connection-client-2.29.26.jar\") \\\n",
        "    .config(\"spark.sql.extensions\", \"org.apache.iceberg.spark.extensions.IcebergSparkSessionExtensions\") \\\n",
        "    .config(\"spark.sql.catalog.demo\", \"org.apache.iceberg.spark.SparkCatalog\") \\\n",
        "    .config(\"spark.sql.catalog.demo.catalog-impl\", \"org.apache.iceberg.rest.RESTCatalog\") \\\n",
        "    .config(\"spark.sql.catalog.demo.uri\", \"http://localhost:8080\") \\\n",
        "    .config(\"spark.hadoop.fs.s3a.endpoint\", \"http://localhost:4566\") \\\n",
        "    .config(\"spark.hadoop.fs.s3a.access.key\", \"test\") \\\n",
        "    .config(\"spark.hadoop.fs.s3a.secret.key\", \"test\") \\\n",
        "    .config(\"spark.hadoop.fs.s3a.path.style.access\", \"true\") \\\n",
        "    .getOrCreate()"
      ]
    },
    {
      "cell_type": "code",
      "execution_count": null,
      "metadata": {},
      "outputs": [],
      "source": [
        "# Test connection to S3 Tables Catalog REST service\n",
        "response = requests.get('http://catalog-rest:8080/v1/config')\n",
        "print(\"Catalog Configuration:\")\n",
        "print(json.dumps(response.json(), indent=2))"
      ]
    },
    {
      "cell_type": "code",
      "execution_count": null,
      "metadata": {},
      "outputs": [],
      "source": [
        "# Create a test namespace\n",
        "namespace_data = {\n",
        "    \"namespace\": \"demo.test\",\n",
        "    \"properties\": {\n",
        "        \"comment\": \"Demo namespace for testing\",\n",
        "        \"owner\": \"data_team\"\n",
        "    }\n",
        "}\n",
        "\n",
        "response = requests.post('http://catalog-rest:8080/v1/namespaces', json=namespace_data)\n",
        "print(f\"Create namespace status: {response.status_code}\")\n",
        "\n",
        "# List namespaces to verify creation\n",
        "response = requests.get('http://catalog-rest:8080/v1/namespaces')\n",
        "print(\"\\nAvailable namespaces:\")\n",
        "print(json.dumps(response.json(), indent=2))"
      ]
    },
    {
      "cell_type": "code",
      "execution_count": null,
      "metadata": {},
      "outputs": [],
      "source": [
        "# Create a test table\n",
        "table_data = {\n",
        "    \"namespace\": \"demo.test\",\n",
        "    \"name\": \"sales\",\n",
        "    \"schema\": {\n",
        "        \"type\": \"struct\",\n",
        "        \"fields\": [\n",
        "            {\"id\": 1, \"name\": \"sale_id\", \"type\": \"long\", \"required\": True},\n",
        "            {\"id\": 2, \"name\": \"product\", \"type\": \"string\"},\n",
        "            {\"id\": 3, \"name\": \"quantity\", \"type\": \"integer\"},\n",
        "            {\"id\": 4, \"name\": \"price\", \"type\": \"double\"},\n",
        "            {\"id\": 5, \"name\": \"sale_date\", \"type\": \"date\"}\n",
        "        ]\n",
        "    },\n",
        "    \"properties\": {\n",
        "        \"write.format.default\": \"parquet\",\n",
        "        \"write.metadata.compression-codec\": \"gzip\"\n",
        "    }\n",
        "}\n",
        "\n",
        "response = requests.post('http://catalog-rest:8080/v1/tables', json=table_data)\n",
        "print(\"Table creation response:\")\n",
        "print(json.dumps(response.json(), indent=2))"
      ]
    },
    {
      "cell_type": "code",
      "execution_count": null,
      "metadata": {},
      "outputs": [],
      "source": [
        "# Create sample data\n",
        "from datetime import date\n",
        "\n",
        "# Define schema\n",
        "schema = StructType([\n",
        "    StructField(\"sale_id\", LongType(), False),\n",
        "    StructField(\"product\", StringType(), True),\n",
        "    StructField(\"quantity\", IntegerType(), True),\n",
        "    StructField(\"price\", DoubleType(), True),\n",
        "    StructField(\"sale_date\", DateType(), True)\n",
        "])\n",
        "\n",
        "# Sample data\n",
        "data = [\n",
        "    (1, \"Laptop\", 1, 999.99, date(2024, 1, 1)),\n",
        "    (2, \"Mouse\", 2, 24.99, date(2024, 1, 1)),\n",
        "    (3, \"Keyboard\", 1, 89.99, date(2024, 1, 2)),\n",
        "    (4, \"Monitor\", 2, 299.99, date(2024, 1, 2)),\n",
        "    (5, \"Headphones\", 3, 79.99, date(2024, 1, 3))\n",
        "]\n",
        "\n",
        "# Create DataFrame\n",
        "df = spark.createDataFrame(data, schema)\n",
        "print(\"Sample DataFrame:\")\n",
        "df.show()"
      ]
    },
    {
      "cell_type": "code",
      "execution_count": null,
      "metadata": {},
      "outputs": [],
      "source": [
        "# Write data to the table\n",
        "df.writeTo(\"demo.demo.test.sales\").using(\"iceberg\").createOrReplace()\n",
        "print(\"Data written successfully!\")"
      ]
    },
    {
      "cell_type": "code",
      "execution_count": null,
      "metadata": {},
      "outputs": [],
      "source": [
        "# Read data from the table\n",
        "result = spark.table(\"demo.demo.test.sales\")\n",
        "print(\"Reading data from table:\")\n",
        "result.show()\n",
        "\n",
        "# Run some analytics\n",
        "print(\"\\nSales summary by product:\")\n",
        "result.groupBy(\"product\") \\\n",
        "    .agg({\"quantity\": \"sum\", \"price\": \"sum\"}) \\\n",
        "    .withColumnRenamed(\"sum(quantity)\", \"total_quantity\") \\\n",
        "    .withColumnRenamed(\"sum(price)\", \"total_revenue\") \\\n",
        "    .show()"
      ]
    },
    {
      "cell_type": "code",
      "execution_count": null,
      "metadata": {},
      "outputs": [],
      "source": [
        "# Clean up resources\n",
        "# Drop the table\n",
        "response = requests.delete('http://catalog-rest:8080/v1/tables/demo.test/sales')\n",
        "print(f\"Drop table status: {response.status_code}\")\n",
        "\n",
        "# List remaining tables\n",
        "response = requests.get('http://catalog-rest:8080/v1/tables?namespace=demo.test')\n",
        "print(\"\\nRemaining tables:\")\n",
        "print(json.dumps(response.json(), indent=2))"
      ]
    }
  ],
  "metadata": {
    "kernelspec": {
      "display_name": "Python 3",
      "language": "python",
      "name": "python3"
    },
    "language_info": {
      "codemirror_mode": {
        "name": "ipython",
        "version": 3
      },
      "file_extension": ".py",
      "mimetype": "text/x-python",
      "name": "python",
      "nbconvert_exporter": "python",
      "pygments_lexer": "ipython3",
      "version": "3.13.1"
    }
  },
  "nbformat": 4,
  "nbformat_minor": 4
}
